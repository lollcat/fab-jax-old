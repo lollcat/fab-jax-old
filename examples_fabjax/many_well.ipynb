{
 "cells": [
  {
   "cell_type": "code",
   "execution_count": null,
   "id": "20e03725",
   "metadata": {
    "pycharm": {
     "name": "#%%\n"
    }
   },
   "outputs": [],
   "source": [
    "# If running locally\n",
    "import sys\n",
    "sys.path.insert(0, \"../\")"
   ]
  },
  {
   "cell_type": "code",
   "execution_count": null,
   "id": "91c55dca",
   "metadata": {
    "colab": {
     "base_uri": "https://localhost:8080/"
    },
    "id": "91c55dca",
    "outputId": "4332cfdb-2e82-4964-ad79-2a1e142bdd19",
    "pycharm": {
     "name": "#%%\n"
    }
   },
   "outputs": [],
   "source": [
    "# If using Colab\n",
    "!pip install git+https://github.com/lollcat/FAB-JAX.git"
   ]
  },
  {
   "cell_type": "code",
   "execution_count": null,
   "id": "a06fd1ac",
   "metadata": {
    "id": "a06fd1ac",
    "pycharm": {
     "name": "#%%\n"
    }
   },
   "outputs": [],
   "source": [
    "from fab.learnt_distributions.real_nvp import make_realnvp_dist_funcs\n",
    "from fab.target_distributions.many_well import ManyWellEnergy\n",
    "from fab.agent.fab_agent import AgentFAB\n",
    "from fab.utils.plotting import plot_history, plot_marginal_pair, plot_contours_2D\n",
    "import matplotlib.pyplot as plt\n",
    "import optax\n",
    "import jax\n",
    "import jax.numpy as jnp"
   ]
  },
  {
   "cell_type": "code",
   "execution_count": null,
   "id": "a28ffac7",
   "metadata": {
    "id": "a28ffac7",
    "pycharm": {
     "name": "#%%\n"
    }
   },
   "outputs": [],
   "source": [
    "dim = 8\n",
    "flow_num_layers = 10\n",
    "mlp_hidden_size_per_x_dim = 5\n",
    "layer_norm = False\n",
    "act_norm = True"
   ]
  },
  {
   "cell_type": "code",
   "execution_count": null,
   "id": "cdd30a26",
   "metadata": {
    "id": "cdd30a26",
    "pycharm": {
     "name": "#%%\n"
    }
   },
   "outputs": [],
   "source": [
    "real_nvp_flo = make_realnvp_dist_funcs(dim, flow_num_layers,\n",
    "                                       mlp_hidden_size_per_x_dim=mlp_hidden_size_per_x_dim, \n",
    "                                       use_exp=True, layer_norm=layer_norm, act_norm=act_norm)\n",
    "target_log_prob = ManyWellEnergy(dim=dim).log_prob\n",
    "batch_size = 128\n",
    "n_iter = int(2e4)\n",
    "n_plots = 10\n",
    "lr = 5e-4\n",
    "max_grad_norm = 1.0\n",
    "n_intermediate_distributions: int = 2\n",
    "AIS_kwargs = {\"additional_transition_operator_kwargs\": {\"step_tuning_method\": \"p_accept\"}}\n",
    "optimizer = optax.chain(optax.zero_nans(), optax.clip_by_global_norm(max_grad_norm), optax.adamw(lr))"
   ]
  },
  {
   "cell_type": "code",
   "execution_count": null,
   "id": "TC0QHj9bnmqP",
   "metadata": {
    "id": "TC0QHj9bnmqP",
    "pycharm": {
     "name": "#%%\n"
    }
   },
   "outputs": [],
   "source": [
    "def plotter(fab_agent, n_samples = batch_size, dim=dim, key=jax.random.PRNGKey(0)):\n",
    "    plotting_bounds = 3\n",
    "    target = ManyWellEnergy(dim=dim)\n",
    "    n_rows = dim // 2\n",
    "    fig, axs = plt.subplots(dim // 2, 2,  sharex=True, sharey=True, figsize=(10, n_rows*3))\n",
    "\n",
    "\n",
    "    samples_flow = fab_agent.learnt_distribution.sample.apply(fab_agent.learnt_distribution_params, key, (batch_size,))\n",
    "    samples_ais = fab_agent.annealed_importance_sampler.run(key, fab_agent.learnt_distribution_params)[0]\n",
    "\n",
    "    for i in range(n_rows):\n",
    "        plot_contours_2D(target.log_prob_2D, bound=plotting_bounds, ax=axs[i, 0])\n",
    "        plot_contours_2D(target.log_prob_2D, bound=plotting_bounds, ax=axs[i, 1])\n",
    "\n",
    "        # plot flow samples\n",
    "        plot_marginal_pair(samples_flow, ax=axs[i, 0], bounds=(-plotting_bounds, plotting_bounds), marginal_dims=(i*2,i*2+1))\n",
    "        axs[i, 0].set_xlabel(f\"dim {i*2}\")\n",
    "        axs[i, 0].set_ylabel(f\"dim {i*2 + 1}\")\n",
    "\n",
    "\n",
    "\n",
    "        # plot ais samples\n",
    "        plot_marginal_pair(samples_ais, ax=axs[i, 1], bounds=(-plotting_bounds, plotting_bounds), marginal_dims=(i*2,i*2+1))\n",
    "        axs[i, 1].set_xlabel(f\"dim {i*2}\")\n",
    "        axs[i, 1].set_ylabel(f\"dim {i*2+1}\")\n",
    "        plt.tight_layout()\n",
    "    axs[0, 1].set_title(\"ais samples\")  \n",
    "    axs[0, 0].set_title(\"flow samples\")\n",
    "    plt.show()\n",
    "    return [fig]"
   ]
  },
  {
   "cell_type": "code",
   "execution_count": null,
   "id": "d1a2e7fc",
   "metadata": {
    "colab": {
     "base_uri": "https://localhost:8080/"
    },
    "id": "d1a2e7fc",
    "outputId": "2057e32f-bc1a-4a8b-dc54-430c8143a93f",
    "pycharm": {
     "name": "#%%\n"
    }
   },
   "outputs": [],
   "source": [
    "fab_agent = AgentFAB(learnt_distribution=real_nvp_flo,\n",
    "                     target_log_prob=target_log_prob,\n",
    "                     n_intermediate_distributions=n_intermediate_distributions,\n",
    "                     AIS_kwargs=AIS_kwargs,\n",
    "                     optimizer=optimizer,\n",
    "                    plotter=plotter)"
   ]
  },
  {
   "cell_type": "code",
   "execution_count": null,
   "id": "8b6c39ae",
   "metadata": {
    "colab": {
     "base_uri": "https://localhost:8080/"
    },
    "id": "8b6c39ae",
    "outputId": "b6198cdc-379e-4b78-fe04-7cdc197d6402",
    "pycharm": {
     "name": "#%%\n"
    }
   },
   "outputs": [],
   "source": [
    "fab_agent.run(n_iter=n_iter, n_plots=n_plots)"
   ]
  },
  {
   "cell_type": "code",
   "execution_count": null,
   "id": "11d7e606",
   "metadata": {
    "colab": {
     "base_uri": "https://localhost:8080/",
     "height": 1000
    },
    "id": "11d7e606",
    "outputId": "9486dff7-bf95-4a6d-b849-802632d77e15",
    "pycharm": {
     "name": "#%%\n"
    }
   },
   "outputs": [],
   "source": [
    "plot_history(fab_agent.history)\n",
    "plt.show()"
   ]
  },
  {
   "cell_type": "code",
   "execution_count": null,
   "id": "e0fbcfd0",
   "metadata": {
    "pycharm": {
     "name": "#%%\n"
    }
   },
   "outputs": [],
   "source": [
    "fab_agent.history[\"n_non_finite_ais_x_samples\"]"
   ]
  },
  {
   "cell_type": "code",
   "execution_count": null,
   "id": "MUg2iqrZoWsJ",
   "metadata": {
    "colab": {
     "base_uri": "https://localhost:8080/",
     "height": 885
    },
    "id": "MUg2iqrZoWsJ",
    "outputId": "1e4db092-0cca-42f7-a43d-2dd45f8922cf",
    "pycharm": {
     "name": "#%%\n"
    }
   },
   "outputs": [],
   "source": [
    "plotter(fab_agent)"
   ]
  },
  {
   "cell_type": "code",
   "execution_count": null,
   "id": "b33b435b",
   "metadata": {
    "pycharm": {
     "name": "#%%\n"
    }
   },
   "outputs": [],
   "source": []
  }
 ],
 "metadata": {
  "accelerator": "GPU",
  "colab": {
   "collapsed_sections": [],
   "name": "many_well_benchmark_jax.ipynb",
   "provenance": []
  },
  "kernelspec": {
   "display_name": "Python 3 (ipykernel)",
   "language": "python",
   "name": "python3"
  },
  "language_info": {
   "codemirror_mode": {
    "name": "ipython",
    "version": 3
   },
   "file_extension": ".py",
   "mimetype": "text/x-python",
   "name": "python",
   "nbconvert_exporter": "python",
   "pygments_lexer": "ipython3",
   "version": "3.7.11"
  }
 },
 "nbformat": 4,
 "nbformat_minor": 5
}