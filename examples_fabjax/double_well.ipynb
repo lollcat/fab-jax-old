{
 "cells": [
  {
   "cell_type": "code",
   "execution_count": null,
   "id": "91c55dca",
   "metadata": {},
   "outputs": [],
   "source": [
    "import sys\n",
    "sys.path.insert(0, \"../\")"
   ]
  },
  {
   "cell_type": "code",
   "execution_count": null,
   "id": "a06fd1ac",
   "metadata": {},
   "outputs": [],
   "source": [
    "from fab.learnt_distributions.real_nvp import make_realnvp_dist_funcs\n",
    "from fab.target_distributions.many_well import DoubleWellEnergy\n",
    "from fab.agent.fab_agent import AgentFAB\n",
    "from fab.utils.plotting import plot_history, plot_marginal_pair, plot_contours_2D\n",
    "import matplotlib.pyplot as plt\n",
    "import optax\n",
    "import jax\n",
    "import jax.numpy as jnp"
   ]
  },
  {
   "cell_type": "code",
   "execution_count": null,
   "id": "a28ffac7",
   "metadata": {},
   "outputs": [],
   "source": [
    "dim = 2\n",
    "flow_num_layers = 10\n",
    "mlp_hidden_size_per_x_dim = 5\n",
    "layer_norm = False\n",
    "act_norm = True"
   ]
  },
  {
   "cell_type": "markdown",
   "id": "b8fad200",
   "metadata": {},
   "source": [
    "In this notebook we visualise two different versions of the bootstrapped flow-ais training procedure (based off different losses). Both result in the flow fitting the target well. "
   ]
  },
  {
   "cell_type": "markdown",
   "id": "b332127c",
   "metadata": {},
   "source": [
    "## Try with AIS chain targeting p^2 / q\n",
    "i.e. style = \"proptoloss\""
   ]
  },
  {
   "cell_type": "code",
   "execution_count": null,
   "id": "cdd30a26",
   "metadata": {},
   "outputs": [],
   "source": [
    "real_nvp_flo = make_realnvp_dist_funcs(dim, flow_num_layers,\n",
    "                                       mlp_hidden_size_per_x_dim=mlp_hidden_size_per_x_dim,\n",
    "                                      layer_norm=layer_norm, act_norm=act_norm)\n",
    "target_log_prob = DoubleWellEnergy(dim=dim).log_prob\n",
    "batch_size = 64\n",
    "eval_batch_size = batch_size\n",
    "n_evals = 10\n",
    "n_iter = int(3e3)\n",
    "lr = 1e-3\n",
    "n_intermediate_distributions: int = 2\n",
    "AIS_kwargs = {\"transition_operator_type\": \"hmc_tfp\"} \n",
    "optimizer = optax.chain(optax.zero_nans(), optax.adam(lr))\n",
    "\n",
    "# loss type 1\n",
    "# loss_type = \"alpha_2_div\"  # \"forward_kl\"  \"alpha_2_div\"\n",
    "# style = \"vanilla\"\n",
    "# loss type 2\n",
    "loss_type = \"alpha_2_div\"\n",
    "style = \"proptoloss\""
   ]
  },
  {
   "cell_type": "code",
   "execution_count": null,
   "id": "eabb37b1",
   "metadata": {},
   "outputs": [],
   "source": [
    "def plotter(fab_agent, log_prob_2D=target_log_prob):\n",
    "    batch_size = 100\n",
    "    if style == \"proptoloss\":\n",
    "        target_name = \"p^2/q\"\n",
    "    else:\n",
    "        target_name = \"p\"\n",
    "\n",
    "    @jax.jit\n",
    "    def get_info(state):\n",
    "        base_log_prob = fab_agent.get_base_log_prob(state.learnt_distribution_params)\n",
    "        target_log_prob = fab_agent.get_target_log_prob(state.learnt_distribution_params)\n",
    "        x_base, log_q_x_base = fab_agent.learnt_distribution.sample_and_log_prob.apply(\n",
    "            state.learnt_distribution_params, rng=state.key,\n",
    "            sample_shape=(batch_size,))\n",
    "        x_ais_loss, _, _, _ = \\\n",
    "            fab_agent.annealed_importance_sampler.run(\n",
    "                x_base, log_q_x_base, state.key,\n",
    "                state.transition_operator_state,\n",
    "                base_log_prob=base_log_prob,\n",
    "                target_log_prob=target_log_prob\n",
    "            )\n",
    "        return x_base, x_ais_loss\n",
    "\n",
    "    x_base, x_ais_target = get_info(fab_agent.state)\n",
    "    fig, axs = plt.subplots(1, 2, figsize=(12, 4))\n",
    "    plot_contours_2D(log_prob_2D, ax=axs[0], bound=3, levels=20)\n",
    "    plot_marginal_pair(x_base, ax=axs[0])\n",
    "    axs[0].set_title(\"base samples\")\n",
    "    plot_contours_2D(log_prob_2D, ax=axs[1], bound=3, levels=20)\n",
    "    plot_marginal_pair(x_ais_target, ax=axs[1])\n",
    "    axs[1].set_title(f\"ais samples with target of: {target_name}\")\n",
    "    plt.show()\n",
    "    return [fig]"
   ]
  },
  {
   "cell_type": "code",
   "execution_count": null,
   "id": "d1a2e7fc",
   "metadata": {},
   "outputs": [],
   "source": [
    "fab_agent = AgentFAB(learnt_distribution=real_nvp_flo,\n",
    "                     target_log_prob=target_log_prob,\n",
    "                     n_intermediate_distributions=n_intermediate_distributions,\n",
    "                     AIS_kwargs=AIS_kwargs,\n",
    "                     optimizer=optimizer,\n",
    "                     plotter=plotter,\n",
    "                     loss_type=loss_type,\n",
    "                      style=style,)"
   ]
  },
  {
   "cell_type": "code",
   "execution_count": null,
   "id": "eba6c8e6",
   "metadata": {},
   "outputs": [],
   "source": [
    "plotter(fab_agent)"
   ]
  },
  {
   "cell_type": "code",
   "execution_count": null,
   "id": "8b6c39ae",
   "metadata": {
    "scrolled": true
   },
   "outputs": [],
   "source": [
    "fab_agent.run(n_iter=n_iter, batch_size=batch_size, n_plots=5, n_evals=n_evals, eval_batch_size=eval_batch_size)"
   ]
  },
  {
   "cell_type": "code",
   "execution_count": null,
   "id": "11d7e606",
   "metadata": {},
   "outputs": [],
   "source": [
    "plt.plot(fab_agent.logger.history[\"ess_base\"])\n",
    "plt.title(\"ess_base p^2/q\")\n",
    "plt.show()\n",
    "plt.plot(fab_agent.logger.history[\"ess_ais\"])\n",
    "plt.title(\"ess_ais p^2/q\")\n",
    "plt.show()\n",
    "plt.plot(fab_agent.logger.history['eval_ess_ais'])\n",
    "plt.title(\"ess_ais over p\")\n",
    "plt.show()\n",
    "plt.plot(fab_agent.logger.history['eval_ess_flow'])\n",
    "plt.title(\"ess_base over p\")\n",
    "plt.show()"
   ]
  },
  {
   "cell_type": "code",
   "execution_count": null,
   "id": "e24b1a8e",
   "metadata": {},
   "outputs": [],
   "source": [
    "plotter(fab_agent)"
   ]
  },
  {
   "cell_type": "markdown",
   "id": "c68d0597",
   "metadata": {},
   "source": [
    "## Try with ais chain targetting the target\n",
    "i.e. style = \"vanilla\""
   ]
  },
  {
   "cell_type": "code",
   "execution_count": null,
   "id": "8abe313b",
   "metadata": {},
   "outputs": [],
   "source": [
    "n_evals = None # don't need to evaluate seperately as we already target p to get our ESS\n",
    "\n",
    "# set loss type to vanilla\n",
    "loss_type = \"alpha_2_div\"  # \"forward_kl\"  \"alpha_2_div\"\n",
    "style = \"vanilla\""
   ]
  },
  {
   "cell_type": "code",
   "execution_count": null,
   "id": "44489910",
   "metadata": {},
   "outputs": [],
   "source": [
    "real_nvp_flo = make_realnvp_dist_funcs(dim, flow_num_layers,\n",
    "                                       mlp_hidden_size_per_x_dim=mlp_hidden_size_per_x_dim,\n",
    "                                      layer_norm=layer_norm, act_norm=act_norm)"
   ]
  },
  {
   "cell_type": "code",
   "execution_count": null,
   "id": "7438b1b9",
   "metadata": {},
   "outputs": [],
   "source": [
    "fab_agent = AgentFAB(learnt_distribution=real_nvp_flo,\n",
    "                     target_log_prob=target_log_prob,\n",
    "                     n_intermediate_distributions=n_intermediate_distributions,\n",
    "                     AIS_kwargs=AIS_kwargs,\n",
    "                     optimizer=optimizer,\n",
    "                     plotter=plotter,\n",
    "                     loss_type=loss_type,\n",
    "                     style=style,\n",
    "                     \n",
    "                    )"
   ]
  },
  {
   "cell_type": "code",
   "execution_count": null,
   "id": "d31dda8e",
   "metadata": {
    "scrolled": true
   },
   "outputs": [],
   "source": [
    "fab_agent.run(n_iter=n_iter, batch_size=batch_size, n_plots=5, n_evals=n_evals, eval_batch_size=eval_batch_size)"
   ]
  },
  {
   "cell_type": "code",
   "execution_count": null,
   "id": "37e822a4",
   "metadata": {},
   "outputs": [],
   "source": [
    "plt.plot(fab_agent.logger.history[\"ess_base\"])\n",
    "plt.title(\"ess_base\")\n",
    "plt.show()\n",
    "plt.plot(fab_agent.logger.history[\"ess_ais\"])\n",
    "plt.title(\"ess_ais\")\n",
    "plt.show()"
   ]
  },
  {
   "cell_type": "code",
   "execution_count": null,
   "id": "c3ca8a0e",
   "metadata": {},
   "outputs": [],
   "source": []
  }
 ],
 "metadata": {
  "kernelspec": {
   "display_name": "Python 3 (ipykernel)",
   "language": "python",
   "name": "python3"
  },
  "language_info": {
   "codemirror_mode": {
    "name": "ipython",
    "version": 3
   },
   "file_extension": ".py",
   "mimetype": "text/x-python",
   "name": "python",
   "nbconvert_exporter": "python",
   "pygments_lexer": "ipython3",
   "version": "3.8.13"
  }
 },
 "nbformat": 4,
 "nbformat_minor": 5
}
