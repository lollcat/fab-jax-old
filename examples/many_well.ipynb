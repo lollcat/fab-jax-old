{
 "cells": [
  {
   "cell_type": "code",
   "execution_count": 1,
   "id": "20e03725",
   "metadata": {},
   "outputs": [],
   "source": [
    "# If running locally\n",
    "import sys\n",
    "sys.path.insert(0, \"../\")"
   ]
  },
  {
   "cell_type": "code",
   "execution_count": null,
   "id": "91c55dca",
   "metadata": {
    "colab": {
     "base_uri": "https://localhost:8080/"
    },
    "id": "91c55dca",
    "outputId": "4332cfdb-2e82-4964-ad79-2a1e142bdd19"
   },
   "outputs": [],
   "source": [
    "# If using Colab\n",
    "!git clone https://github.com/lollcat/FAB-JAX\n",
    "!pip install git+https://github.com/deepmind/dm-haiku\n",
    "!pip install git+git://github.com/deepmind/distrax.git\n",
    "!pip install git+git://github.com/deepmind/optax.git\n",
    "import os\n",
    "os.chdir(\"FAB-JAX\")"
   ]
  },
  {
   "cell_type": "code",
   "execution_count": 2,
   "id": "a06fd1ac",
   "metadata": {
    "id": "a06fd1ac"
   },
   "outputs": [
    {
     "name": "stderr",
     "output_type": "stream",
     "text": [
      "2022-03-06 17:31:22.686573: W tensorflow/stream_executor/platform/default/dso_loader.cc:64] Could not load dynamic library 'libcudart.so.11.0'; dlerror: libcudart.so.11.0: cannot open shared object file: No such file or directory\n"
     ]
    }
   ],
   "source": [
    "from fab.learnt_distributions.real_nvp import make_realnvp_dist_funcs\n",
    "from fab.target_distributions.many_well import ManyWellEnergy\n",
    "from fab.agent.fab_agent import AgentFAB\n",
    "from fab.utils.plotting import plot_history, plot_marginal_pair, plot_contours_2D\n",
    "import matplotlib.pyplot as plt\n",
    "import optax\n",
    "import jax\n",
    "import jax.numpy as jnp"
   ]
  },
  {
   "cell_type": "code",
   "execution_count": 11,
   "id": "a28ffac7",
   "metadata": {
    "id": "a28ffac7"
   },
   "outputs": [],
   "source": [
    "dim = 8\n",
    "flow_num_layers = 10\n",
    "mlp_hidden_size_per_x_dim = 5\n",
    "layer_norm = False\n",
    "act_norm = True"
   ]
  },
  {
   "cell_type": "code",
   "execution_count": 12,
   "id": "cdd30a26",
   "metadata": {
    "id": "cdd30a26"
   },
   "outputs": [],
   "source": [
    "real_nvp_flo = make_realnvp_dist_funcs(dim, flow_num_layers,\n",
    "                                       mlp_hidden_size_per_x_dim=mlp_hidden_size_per_x_dim, \n",
    "                                       use_exp=True, layer_norm=layer_norm, act_norm=act_norm)\n",
    "target_log_prob = ManyWellEnergy(dim=dim).log_prob\n",
    "batch_size = 124\n",
    "n_iter = int(2e4)\n",
    "lr = 1e-4\n",
    "n_intermediate_distributions: int = 2\n",
    "AIS_kwargs = {\"additional_transition_operator_kwargs\": {\"step_tuning_method\": \"p_accept\"}}"
   ]
  },
  {
   "cell_type": "code",
   "execution_count": 13,
   "id": "d1a2e7fc",
   "metadata": {
    "colab": {
     "base_uri": "https://localhost:8080/"
    },
    "id": "d1a2e7fc",
    "outputId": "2057e32f-bc1a-4a8b-dc54-430c8143a93f"
   },
   "outputs": [
    {
     "name": "stdout",
     "output_type": "stream",
     "text": [
      "using linear spacing as there is 2intermediate distribution\n"
     ]
    }
   ],
   "source": [
    "fab_agent = AgentFAB(learnt_distribution=real_nvp_flo,\n",
    "                     target_log_prob=target_log_prob,\n",
    "                     batch_size=batch_size, n_iter=n_iter,\n",
    "                     n_intermediate_distributions=n_intermediate_distributions,\n",
    "                     AIS_kwargs=AIS_kwargs,\n",
    "                     optimizer=optax.adam(lr))"
   ]
  },
  {
   "cell_type": "code",
   "execution_count": null,
   "id": "8b6c39ae",
   "metadata": {
    "colab": {
     "base_uri": "https://localhost:8080/"
    },
    "id": "8b6c39ae",
    "outputId": "b6198cdc-379e-4b78-fe04-7cdc197d6402"
   },
   "outputs": [
    {
     "name": "stderr",
     "output_type": "stream",
     "text": [
      "ESS: 0.1759492732660775:  21%|█████████████████████████████████                                                                                                                           | 4243/20000 [02:19<04:57, 52.92it/s]"
     ]
    }
   ],
   "source": [
    "fab_agent.run()"
   ]
  },
  {
   "cell_type": "code",
   "execution_count": null,
   "id": "11d7e606",
   "metadata": {
    "colab": {
     "base_uri": "https://localhost:8080/",
     "height": 1000
    },
    "id": "11d7e606",
    "outputId": "9486dff7-bf95-4a6d-b849-802632d77e15"
   },
   "outputs": [],
   "source": [
    "plot_history(fab_agent.history)\n",
    "plt.show()"
   ]
  },
  {
   "cell_type": "code",
   "execution_count": null,
   "id": "TC0QHj9bnmqP",
   "metadata": {
    "id": "TC0QHj9bnmqP"
   },
   "outputs": [],
   "source": [
    "def plot(fab_agent, n_samples = batch_size, dim=dim, key=jax.random.PRNGKey(0)):\n",
    "    plotting_bounds = 3\n",
    "    target = ManyWellEnergy(dim=dim)\n",
    "    n_rows = dim // 2\n",
    "    fig, axs = plt.subplots(dim // 2, 2,  sharex=True, sharey=True, figsize=(10, n_rows*3))\n",
    "\n",
    "    \n",
    "    samples_flow = fab_agent.learnt_distribution.sample.apply(fab_agent.learnt_distribution_params, key, (batch_size,))\n",
    "    samples_ais = fab_agent.annealed_importance_sampler.run(key, fab_agent.learnt_distribution_params)[0]\n",
    "\n",
    "    for i in range(n_rows):\n",
    "      plot_contours_2D(target.log_prob_2D, bound=plotting_bounds, ax=axs[i, 0])\n",
    "      plot_contours_2D(target.log_prob_2D, bound=plotting_bounds, ax=axs[i, 1])\n",
    "\n",
    "      # plot flow samples\n",
    "      plot_marginal_pair(samples_flow, ax=axs[i, 0], bounds=(-plotting_bounds, plotting_bounds), marginal_dims=(i*2,i*2+1))\n",
    "      axs[i, 0].set_xlabel(f\"dim {i*2}\")\n",
    "      axs[i, 0].set_ylabel(f\"dim {i*2 + 1}\")\n",
    "      \n",
    "\n",
    "\n",
    "      # plot ais samples\n",
    "      plot_marginal_pair(samples_ais, ax=axs[i, 1], bounds=(-plotting_bounds, plotting_bounds), marginal_dims=(i*2,i*2+1))\n",
    "      axs[i, 1].set_xlabel(f\"dim {i*2}\")\n",
    "      axs[i, 1].set_ylabel(f\"dim {i*2+1}\")\n",
    "      plt.tight_layout()\n",
    "    axs[0, 1].set_title(\"ais samples\")  \n",
    "    axs[0, 0].set_title(\"flow samples\")\n",
    "    plt.show()"
   ]
  },
  {
   "cell_type": "code",
   "execution_count": null,
   "id": "MUg2iqrZoWsJ",
   "metadata": {
    "colab": {
     "base_uri": "https://localhost:8080/",
     "height": 885
    },
    "id": "MUg2iqrZoWsJ",
    "outputId": "1e4db092-0cca-42f7-a43d-2dd45f8922cf"
   },
   "outputs": [],
   "source": [
    "plot(fab_agent)"
   ]
  }
 ],
 "metadata": {
  "accelerator": "GPU",
  "colab": {
   "collapsed_sections": [],
   "name": "many_well_benchmark_jax.ipynb",
   "provenance": []
  },
  "kernelspec": {
   "display_name": "Python 3 (ipykernel)",
   "language": "python",
   "name": "python3"
  },
  "language_info": {
   "codemirror_mode": {
    "name": "ipython",
    "version": 3
   },
   "file_extension": ".py",
   "mimetype": "text/x-python",
   "name": "python",
   "nbconvert_exporter": "python",
   "pygments_lexer": "ipython3",
   "version": "3.7.11"
  }
 },
 "nbformat": 4,
 "nbformat_minor": 5
}