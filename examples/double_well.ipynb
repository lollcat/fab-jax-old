{
 "cells": [
  {
   "cell_type": "code",
   "execution_count": null,
   "id": "91c55dca",
   "metadata": {},
   "outputs": [],
   "source": [
    "import sys\n",
    "sys.path.insert(0, \"../\")"
   ]
  },
  {
   "cell_type": "code",
   "execution_count": null,
   "id": "a06fd1ac",
   "metadata": {},
   "outputs": [],
   "source": [
    "from fab.learnt_distributions.real_nvp import make_realnvp_dist_funcs\n",
    "from fab.target_distributions.many_well import DoubleWellEnergy\n",
    "from fab.agent.fab_agent import AgentFAB\n",
    "from fab.utils.plotting import plot_history, plot_marginal_pair, plot_contours_2D\n",
    "import matplotlib.pyplot as plt\n",
    "import optax\n",
    "import jax\n",
    "import jax.numpy as jnp"
   ]
  },
  {
   "cell_type": "code",
   "execution_count": null,
   "id": "a28ffac7",
   "metadata": {},
   "outputs": [],
   "source": [
    "dim = 2\n",
    "flow_num_layers = 10\n",
    "mlp_hidden_size_per_x_dim = 5\n",
    "layer_norm = False\n",
    "act_norm = True"
   ]
  },
  {
   "cell_type": "code",
   "execution_count": null,
   "id": "cdd30a26",
   "metadata": {},
   "outputs": [],
   "source": [
    "real_nvp_flo = make_realnvp_dist_funcs(dim, flow_num_layers,\n",
    "                                       mlp_hidden_size_per_x_dim=mlp_hidden_size_per_x_dim,\n",
    "                                      layer_norm=layer_norm, act_norm=act_norm)\n",
    "target_log_prob = DoubleWellEnergy(dim=dim).log_prob\n",
    "batch_size = 64\n",
    "n_iter = 4000\n",
    "lr = 5e-4\n",
    "n_intermediate_distributions: int = 2\n",
    "AIS_kwargs = {\"additional_transition_operator_kwargs\": {\"step_tuning_method\": \"p_accept\"}}"
   ]
  },
  {
   "cell_type": "code",
   "execution_count": null,
   "id": "d1a2e7fc",
   "metadata": {},
   "outputs": [],
   "source": [
    "fab_agent = AgentFAB(learnt_distribution=real_nvp_flo,\n",
    "                     target_log_prob=target_log_prob,\n",
    "                     batch_size=batch_size, n_iter=n_iter,\n",
    "                     n_intermediate_distributions=n_intermediate_distributions,\n",
    "                     AIS_kwargs=AIS_kwargs,\n",
    "                     optimizer=optax.adam(lr))"
   ]
  },
  {
   "cell_type": "code",
   "execution_count": null,
   "id": "8b6c39ae",
   "metadata": {},
   "outputs": [],
   "source": [
    "fab_agent.run()"
   ]
  },
  {
   "cell_type": "code",
   "execution_count": null,
   "id": "11d7e606",
   "metadata": {},
   "outputs": [],
   "source": [
    "plot_history(fab_agent.history)\n",
    "plt.show()"
   ]
  },
  {
   "cell_type": "code",
   "execution_count": null,
   "id": "e24b1a8e",
   "metadata": {},
   "outputs": [],
   "source": [
    "fig, ax = plt.subplots()\n",
    "plot_contours_2D(fab_agent.target_log_prob, ax=ax, bound=3, levels=20)\n",
    "samples = fab_agent.learnt_distribution.sample.apply(\n",
    "    fab_agent.learnt_distribution_params,\n",
    "    jax.random.PRNGKey(0), (500,))\n",
    "plot_marginal_pair(samples, ax=ax)"
   ]
  },
  {
   "cell_type": "code",
   "execution_count": null,
   "id": "2b3038ea",
   "metadata": {},
   "outputs": [],
   "source": []
  },
  {
   "cell_type": "code",
   "execution_count": null,
   "id": "3e8a31b1",
   "metadata": {},
   "outputs": [],
   "source": []
  }
 ],
 "metadata": {
  "kernelspec": {
   "display_name": "Python 3 (ipykernel)",
   "language": "python",
   "name": "python3"
  },
  "language_info": {
   "codemirror_mode": {
    "name": "ipython",
    "version": 3
   },
   "file_extension": ".py",
   "mimetype": "text/x-python",
   "name": "python",
   "nbconvert_exporter": "python",
   "pygments_lexer": "ipython3",
   "version": "3.7.11"
  }
 },
 "nbformat": 4,
 "nbformat_minor": 5
}