{
 "cells": [
  {
   "cell_type": "code",
   "execution_count": null,
   "id": "91c55dca",
   "metadata": {},
   "outputs": [],
   "source": [
    "import sys\n",
    "sys.path.insert(0, \"../\")"
   ]
  },
  {
   "cell_type": "code",
   "execution_count": null,
   "id": "a06fd1ac",
   "metadata": {},
   "outputs": [],
   "source": [
    "from fab.learnt_distributions.real_nvp import make_realnvp_dist_funcs\n",
    "from fab.target_distributions.many_well import DoubleWellEnergy\n",
    "from fab.agent.fab_agent import AgentFAB\n",
    "from fab.utils.plotting import plot_history, plot_marginal_pair, plot_contours_2D\n",
    "import matplotlib.pyplot as plt\n",
    "import optax\n",
    "import jax\n",
    "import jax.numpy as jnp"
   ]
  },
  {
   "cell_type": "code",
   "execution_count": null,
   "id": "a28ffac7",
   "metadata": {},
   "outputs": [],
   "source": [
    "dim = 2\n",
    "flow_num_layers = 10\n",
    "mlp_hidden_size_per_x_dim = 5\n",
    "layer_norm = False\n",
    "act_norm = True"
   ]
  },
  {
   "cell_type": "code",
   "execution_count": null,
   "id": "cdd30a26",
   "metadata": {},
   "outputs": [],
   "source": [
    "real_nvp_flo = make_realnvp_dist_funcs(dim, flow_num_layers,\n",
    "                                       mlp_hidden_size_per_x_dim=mlp_hidden_size_per_x_dim,\n",
    "                                      layer_norm=layer_norm, act_norm=act_norm)\n",
    "target_log_prob = DoubleWellEnergy(dim=dim).log_prob\n",
    "batch_size = 64\n",
    "n_iter = int(1e4)\n",
    "lr = 5e-4\n",
    "n_intermediate_distributions: int = 2\n",
    "AIS_kwargs = {\"additional_transition_operator_kwargs\": {\"step_tuning_method\": \"p_accept\"}}\n",
    "optimizer = optax.adamw(lr)"
   ]
  },
  {
   "cell_type": "code",
   "execution_count": null,
   "id": "eabb37b1",
   "metadata": {},
   "outputs": [],
   "source": [
    "def plotter(fab_agent, batch_size=500):\n",
    "    key=jax.random.PRNGKey(0)\n",
    "    fig, axs = plt.subplots(1, 2, figsize=(10, 5))\n",
    "    plot_contours_2D(fab_agent.target_log_prob, ax=axs[0], bound=3, levels=20)\n",
    "    plot_contours_2D(fab_agent.target_log_prob, ax=axs[1], bound=3, levels=20)\n",
    "    samples = jax.jit(fab_agent.learnt_distribution.sample.apply, static_argnums=2)(\n",
    "        fab_agent.state.learnt_distribution_params,\n",
    "        key, (batch_size,))\n",
    "    samples_ais, _, _, _ = \\\n",
    "                jax.jit(fab_agent.annealed_importance_sampler.run, static_argnums=0)(\n",
    "                    batch_size, key, fab_agent.state.learnt_distribution_params,\n",
    "                    fab_agent.state.transition_operator_state)\n",
    "    plot_marginal_pair(samples, ax=axs[0])\n",
    "    plot_marginal_pair(samples_ais, ax=axs[1])\n",
    "    axs[0].set_title(\"samples from flow\")\n",
    "    axs[1].set_title(\"samples from ais\")\n",
    "    plt.show()\n",
    "    return [fig]"
   ]
  },
  {
   "cell_type": "code",
   "execution_count": null,
   "id": "d1a2e7fc",
   "metadata": {},
   "outputs": [],
   "source": [
    "fab_agent = AgentFAB(learnt_distribution=real_nvp_flo,\n",
    "                     target_log_prob=target_log_prob,\n",
    "                     n_intermediate_distributions=n_intermediate_distributions,\n",
    "                     AIS_kwargs=AIS_kwargs,\n",
    "                     optimizer=optimizer,\n",
    "                     plotter=plotter)"
   ]
  },
  {
   "cell_type": "code",
   "execution_count": null,
   "id": "eba6c8e6",
   "metadata": {},
   "outputs": [],
   "source": [
    "plotter(fab_agent)"
   ]
  },
  {
   "cell_type": "code",
   "execution_count": null,
   "id": "8b6c39ae",
   "metadata": {
    "scrolled": true
   },
   "outputs": [],
   "source": [
    "fab_agent.run(n_iter=n_iter, batch_size=batch_size, n_plots=5)"
   ]
  },
  {
   "cell_type": "code",
   "execution_count": null,
   "id": "11d7e606",
   "metadata": {},
   "outputs": [],
   "source": [
    "plt.plot(fab_agent.logger.history[\"ess_base\"])\n",
    "plt.title(\"ess_base\")\n",
    "plt.show()\n",
    "plt.plot(fab_agent.logger.history[\"ess_ais\"])\n",
    "plt.title(\"ess_ais\")\n",
    "plt.show()\n",
    "plt.show()"
   ]
  },
  {
   "cell_type": "code",
   "execution_count": null,
   "id": "e24b1a8e",
   "metadata": {},
   "outputs": [],
   "source": [
    "plotter(fab_agent)"
   ]
  },
  {
   "cell_type": "code",
   "execution_count": null,
   "id": "96cd5254",
   "metadata": {},
   "outputs": [],
   "source": []
  }
 ],
 "metadata": {
  "kernelspec": {
   "display_name": "Python 3 (ipykernel)",
   "language": "python",
   "name": "python3"
  },
  "language_info": {
   "codemirror_mode": {
    "name": "ipython",
    "version": 3
   },
   "file_extension": ".py",
   "mimetype": "text/x-python",
   "name": "python",
   "nbconvert_exporter": "python",
   "pygments_lexer": "ipython3",
   "version": "3.7.11"
  }
 },
 "nbformat": 4,
 "nbformat_minor": 5
}