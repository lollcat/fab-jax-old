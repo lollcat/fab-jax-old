{
 "cells": [
  {
   "cell_type": "code",
   "execution_count": null,
   "id": "91c55dca",
   "metadata": {
    "pycharm": {
     "name": "#%%\n",
     "is_executing": true
    }
   },
   "outputs": [],
   "source": [
    "import sys\n",
    "sys.path.insert(0, \"../\")"
   ]
  },
  {
   "cell_type": "code",
   "execution_count": null,
   "id": "a06fd1ac",
   "metadata": {
    "pycharm": {
     "name": "#%%\n"
    }
   },
   "outputs": [],
   "source": [
    "from fab.learnt_distributions.real_nvp import make_realnvp_dist_funcs\n",
    "from fab.target_distributions.gmm import GMM\n",
    "from fab.agent.fab_agent_prioritised import PrioritisedAgentFAB, State\n",
    "from fab.utils.prioritised_replay_buffer import PrioritisedReplayBuffer\n",
    "from fab.utils.plotting import plot_history, plot_marginal_pair, plot_contours_2D\n",
    "import matplotlib.pyplot as plt\n",
    "import optax\n",
    "import jax\n",
    "import jax.numpy as jnp"
   ]
  },
  {
   "cell_type": "code",
   "execution_count": null,
   "id": "a28ffac7",
   "metadata": {
    "pycharm": {
     "name": "#%%\n"
    }
   },
   "outputs": [],
   "source": [
    "loc_scaling= 40\n",
    "n_mixes = 40\n",
    "dim = 2\n",
    "flow_num_layers = 30\n",
    "mlp_hidden_size_per_x_dim = 10\n",
    "layer_norm = False\n",
    "act_norm = False\n",
    "lu_layer = False"
   ]
  },
  {
   "cell_type": "code",
   "execution_count": null,
   "id": "cdd30a26",
   "metadata": {
    "pycharm": {
     "name": "#%%\n"
    }
   },
   "outputs": [],
   "source": [
    "real_nvp_flo = make_realnvp_dist_funcs(dim, flow_num_layers,\n",
    "                                       mlp_hidden_size_per_x_dim=mlp_hidden_size_per_x_dim,\n",
    "                                      layer_norm=layer_norm, act_norm=act_norm,\n",
    "                                      lu_layer=lu_layer,\n",
    "                                      use_exp=True)\n",
    "target = GMM(dim, n_mixes=n_mixes, loc_scaling=loc_scaling, log_var_scaling=1.0, seed=1)\n",
    "target_log_prob = target.log_prob\n",
    "batch_size = 64\n",
    "eval_batch_size = batch_size*2\n",
    "n_evals = 10\n",
    "n_iter = int(3e4)\n",
    "lr = 1e-4\n",
    "n_plots = 6\n",
    "n_buffer_updates_per_forward = 8\n",
    "n_intermediate_distributions: int = 4\n",
    "AIS_kwargs = {\"transition_operator_type\": \"hmc_tfp\",\n",
    "             \"additional_transition_operator_kwargs\":\n",
    "                      {\"init_step_size\": 1.0}} \n",
    "# optimizer = optax.chain(optax.zero_nans(), optax.clip_by_global_norm(max_grad_norm), optax.adam(lr))\n",
    "optimizer = optax.chain(optax.zero_nans(), optax.adam(lr))"
   ]
  },
  {
   "cell_type": "code",
   "execution_count": null,
   "id": "a717c915",
   "metadata": {
    "pycharm": {
     "name": "#%%\n"
    }
   },
   "outputs": [],
   "source": [
    "# Visualise the target\n",
    "bound = int(loc_scaling * 1.4)\n",
    "levels=80\n",
    "plot_contours_2D(target_log_prob, bound=bound, levels=80)"
   ]
  },
  {
   "cell_type": "code",
   "execution_count": null,
   "id": "527757e5",
   "metadata": {
    "pycharm": {
     "name": "#%%\n"
    }
   },
   "outputs": [],
   "source": [
    "target"
   ]
  },
  {
   "cell_type": "code",
   "execution_count": null,
   "id": "b6528bd3",
   "metadata": {
    "pycharm": {
     "name": "#%%\n"
    }
   },
   "outputs": [],
   "source": [
    "# Visualise the target\n",
    "bound = int(loc_scaling * 1.4)\n",
    "levels=80\n",
    "fig, ax = plt.subplots()\n",
    "samples = target.sample(jax.random.PRNGKey(0), (500,))\n",
    "ax.plot(samples[:, 0], samples[:, 1],  \"o\", alpha=0.1)\n",
    "plot_contours_2D(target_log_prob, ax=ax, bound=bound, levels=80)\n",
    "plt.show()"
   ]
  },
  {
   "cell_type": "code",
   "execution_count": null,
   "id": "ed521759",
   "metadata": {
    "pycharm": {
     "name": "#%%\n"
    }
   },
   "outputs": [],
   "source": [
    "buffer = PrioritisedReplayBuffer(dim=dim,\n",
    "                          max_length=batch_size*n_buffer_updates_per_forward*100,\n",
    "                          min_sample_length=batch_size*n_buffer_updates_per_forward*10)\n"
   ]
  },
  {
   "cell_type": "code",
   "execution_count": null,
   "id": "a085b1a5",
   "metadata": {
    "pycharm": {
     "name": "#%%\n"
    }
   },
   "outputs": [],
   "source": [
    "def plotter(fab_agent, batch_size = 500):\n",
    "    log_prob_2D = fab_agent.target_log_prob\n",
    "    @jax.jit\n",
    "    def get_info(state):\n",
    "        base_log_prob = fab_agent.get_base_log_prob(state.learnt_distribution_params)\n",
    "        target_log_prob = fab_agent.get_ais_target_log_prob(state.learnt_distribution_params)\n",
    "        x_base, log_q_x_base = fab_agent.learnt_distribution.sample_and_log_prob.apply(\n",
    "            state.learnt_distribution_params, rng=state.key,\n",
    "            sample_shape=(batch_size,))\n",
    "        x_ais_loss, _, _, _ = \\\n",
    "            fab_agent.annealed_importance_sampler.run(\n",
    "                x_base, log_q_x_base, state.key,\n",
    "                state.transition_operator_state,\n",
    "                base_log_prob=base_log_prob,\n",
    "                target_log_prob=target_log_prob\n",
    "            )\n",
    "        x_buffer = buffer_samples = fab_agent.replay_buffer.sample(state.buffer_state, state.key, batch_size)[0]\n",
    "        return x_base, x_ais_loss, x_buffer\n",
    "\n",
    "    x_base, x_ais_loss, x_buffer = get_info(fab_agent.state)\n",
    "    fig, axs = plt.subplots(1, 3, figsize=(12, 4))\n",
    "    plot_contours_2D(log_prob_2D, ax=axs[0], bound=bound, levels=levels)\n",
    "    plot_marginal_pair(x_base, ax=axs[0], bounds=(-bound, bound))\n",
    "    axs[0].set_title(\"base samples\")\n",
    "    plot_contours_2D(log_prob_2D, ax=axs[1], bound=bound, levels=levels)\n",
    "    plot_marginal_pair(x_ais_loss, ax=axs[1], bounds=(-bound, bound))\n",
    "    axs[1].set_title(\"p^2 / q samples\")\n",
    "    plot_contours_2D(log_prob_2D, ax=axs[2], bound=bound, levels=levels)\n",
    "    plot_marginal_pair(x_buffer, ax=axs[2], bounds=(-bound, bound))\n",
    "    axs[2].set_title(\"buffer samples\")\n",
    "    plt.show()\n",
    "    return [fig]\n"
   ]
  },
  {
   "cell_type": "code",
   "execution_count": null,
   "id": "d1a2e7fc",
   "metadata": {
    "pycharm": {
     "name": "#%%\n"
    }
   },
   "outputs": [],
   "source": [
    "fab_agent = PrioritisedAgentFAB(learnt_distribution=real_nvp_flo,\n",
    "                                    target_log_prob=target_log_prob,\n",
    "                                    n_intermediate_distributions=n_intermediate_distributions,\n",
    "                                    replay_buffer=buffer,\n",
    "                                    n_buffer_updates_per_forward=n_buffer_updates_per_forward,\n",
    "                                    AIS_kwargs=AIS_kwargs,\n",
    "                                    optimizer=optimizer,\n",
    "                                    plotter=plotter,\n",
    "                                    max_w_adjust=10.0,\n",
    "                                    )"
   ]
  },
  {
   "cell_type": "code",
   "execution_count": null,
   "id": "eaae3301",
   "metadata": {
    "pycharm": {
     "name": "#%%\n"
    }
   },
   "outputs": [],
   "source": [
    "plotter(fab_agent)"
   ]
  },
  {
   "cell_type": "code",
   "execution_count": null,
   "id": "8b6c39ae",
   "metadata": {
    "scrolled": false,
    "pycharm": {
     "name": "#%%\n"
    }
   },
   "outputs": [],
   "source": [
    "fab_agent.run(n_iter=n_iter, batch_size=batch_size, n_plots=n_plots, n_evals=n_evals, eval_batch_size=eval_batch_size)"
   ]
  },
  {
   "cell_type": "code",
   "execution_count": null,
   "id": "11d7e606",
   "metadata": {
    "pycharm": {
     "name": "#%%\n"
    }
   },
   "outputs": [],
   "source": [
    "plt.plot(fab_agent.logger.history[\"ess_base\"])\n",
    "plt.title(\"ess_base\")\n",
    "plt.show()\n",
    "plt.plot(fab_agent.logger.history[\"ess_ais\"])\n",
    "plt.title(\"ess_ais\")\n",
    "plt.show()\n",
    "plt.show()"
   ]
  },
  {
   "cell_type": "code",
   "execution_count": null,
   "id": "b956b46a",
   "metadata": {
    "pycharm": {
     "name": "#%%\n"
    }
   },
   "outputs": [],
   "source": [
    "plt.plot(fab_agent.logger.history[\"eval_ess_flow\"])\n",
    "plt.title(\"ess_base\")\n",
    "plt.show()\n",
    "plt.plot(fab_agent.logger.history[\"eval_ess_ais_p\"])\n",
    "plt.title(\"ess_ais\")\n",
    "plt.show()\n",
    "plt.show()"
   ]
  },
  {
   "cell_type": "code",
   "execution_count": null,
   "id": "e24b1a8e",
   "metadata": {
    "pycharm": {
     "name": "#%%\n"
    }
   },
   "outputs": [],
   "source": [
    "plotter(fab_agent)"
   ]
  },
  {
   "cell_type": "code",
   "execution_count": null,
   "id": "203d7aad",
   "metadata": {
    "pycharm": {
     "name": "#%%\n"
    }
   },
   "outputs": [],
   "source": []
  }
 ],
 "metadata": {
  "kernelspec": {
   "display_name": "Python 3 (ipykernel)",
   "language": "python",
   "name": "python3"
  },
  "language_info": {
   "codemirror_mode": {
    "name": "ipython",
    "version": 3
   },
   "file_extension": ".py",
   "mimetype": "text/x-python",
   "name": "python",
   "nbconvert_exporter": "python",
   "pygments_lexer": "ipython3",
   "version": "3.9.12"
  }
 },
 "nbformat": 4,
 "nbformat_minor": 5
}